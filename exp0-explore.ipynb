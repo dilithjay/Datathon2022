{
 "cells": [
  {
   "cell_type": "code",
   "execution_count": 3,
   "metadata": {},
   "outputs": [],
   "source": [
    "import pandas as pd"
   ]
  },
  {
   "cell_type": "code",
   "execution_count": 4,
   "metadata": {},
   "outputs": [],
   "source": [
    "df = pd.read_parquet('full_data.parquet')"
   ]
  },
  {
   "cell_type": "code",
   "execution_count": 5,
   "metadata": {},
   "outputs": [
    {
     "data": {
      "text/html": [
       "<div>\n",
       "<style scoped>\n",
       "    .dataframe tbody tr th:only-of-type {\n",
       "        vertical-align: middle;\n",
       "    }\n",
       "\n",
       "    .dataframe tbody tr th {\n",
       "        vertical-align: top;\n",
       "    }\n",
       "\n",
       "    .dataframe thead th {\n",
       "        text-align: right;\n",
       "    }\n",
       "</style>\n",
       "<table border=\"1\" class=\"dataframe\">\n",
       "  <thead>\n",
       "    <tr style=\"text-align: right;\">\n",
       "      <th></th>\n",
       "      <th>event_id</th>\n",
       "      <th>session_id</th>\n",
       "      <th>transaction_date</th>\n",
       "      <th>event_type_id</th>\n",
       "      <th>product_id</th>\n",
       "      <th>title_product_id</th>\n",
       "      <th>country_code_id</th>\n",
       "      <th>ip_address</th>\n",
       "      <th>auth_session_id</th>\n",
       "    </tr>\n",
       "  </thead>\n",
       "  <tbody>\n",
       "    <tr>\n",
       "      <th>0</th>\n",
       "      <td>0</td>\n",
       "      <td>3507032552</td>\n",
       "      <td>2020-08-20 00:00:00</td>\n",
       "      <td>4</td>\n",
       "      <td>63795519</td>\n",
       "      <td>63077424</td>\n",
       "      <td>162</td>\n",
       "      <td>238.108.111.146</td>\n",
       "      <td>2668673246</td>\n",
       "    </tr>\n",
       "    <tr>\n",
       "      <th>1</th>\n",
       "      <td>1</td>\n",
       "      <td>3506994387</td>\n",
       "      <td>2020-08-20 00:00:00</td>\n",
       "      <td>5</td>\n",
       "      <td>193402914</td>\n",
       "      <td>63110659</td>\n",
       "      <td>148</td>\n",
       "      <td>32.129.93.188</td>\n",
       "      <td>2668641289</td>\n",
       "    </tr>\n",
       "    <tr>\n",
       "      <th>2</th>\n",
       "      <td>2</td>\n",
       "      <td>3507038875</td>\n",
       "      <td>2020-08-20 00:00:00</td>\n",
       "      <td>5</td>\n",
       "      <td>202835637</td>\n",
       "      <td>63108769</td>\n",
       "      <td>517</td>\n",
       "      <td>222.60.132.210</td>\n",
       "      <td>2668676616</td>\n",
       "    </tr>\n",
       "    <tr>\n",
       "      <th>3</th>\n",
       "      <td>3</td>\n",
       "      <td>3507038876</td>\n",
       "      <td>2020-08-20 00:00:00</td>\n",
       "      <td>7</td>\n",
       "      <td>63109557</td>\n",
       "      <td>63109558</td>\n",
       "      <td>351</td>\n",
       "      <td>22.28.25.247</td>\n",
       "      <td>2668676617</td>\n",
       "    </tr>\n",
       "    <tr>\n",
       "      <th>4</th>\n",
       "      <td>4</td>\n",
       "      <td>3507036177</td>\n",
       "      <td>2020-08-20 00:00:00</td>\n",
       "      <td>4</td>\n",
       "      <td>69817018</td>\n",
       "      <td>63129191</td>\n",
       "      <td>162</td>\n",
       "      <td>138.169.123.254</td>\n",
       "      <td>2668677577</td>\n",
       "    </tr>\n",
       "    <tr>\n",
       "      <th>...</th>\n",
       "      <td>...</td>\n",
       "      <td>...</td>\n",
       "      <td>...</td>\n",
       "      <td>...</td>\n",
       "      <td>...</td>\n",
       "      <td>...</td>\n",
       "      <td>...</td>\n",
       "      <td>...</td>\n",
       "      <td>...</td>\n",
       "    </tr>\n",
       "    <tr>\n",
       "      <th>6044792</th>\n",
       "      <td>6044792</td>\n",
       "      <td>3512464047</td>\n",
       "      <td>2020-08-20 23:59:59</td>\n",
       "      <td>1</td>\n",
       "      <td>192570369</td>\n",
       "      <td>192474868</td>\n",
       "      <td>245</td>\n",
       "      <td>32.49.15.148</td>\n",
       "      <td>2672615264</td>\n",
       "    </tr>\n",
       "    <tr>\n",
       "      <th>6044793</th>\n",
       "      <td>6044793</td>\n",
       "      <td>3512455623</td>\n",
       "      <td>2020-08-20 23:59:59</td>\n",
       "      <td>3</td>\n",
       "      <td>69027904</td>\n",
       "      <td>63117137</td>\n",
       "      <td>315</td>\n",
       "      <td>204.94.80.154</td>\n",
       "      <td>2672624505</td>\n",
       "    </tr>\n",
       "    <tr>\n",
       "      <th>6044794</th>\n",
       "      <td>6044794</td>\n",
       "      <td>3512460245</td>\n",
       "      <td>2020-08-20 23:59:59</td>\n",
       "      <td>5</td>\n",
       "      <td>194186114</td>\n",
       "      <td>63109504</td>\n",
       "      <td>177</td>\n",
       "      <td>204.6.104.117</td>\n",
       "      <td>2672617876</td>\n",
       "    </tr>\n",
       "    <tr>\n",
       "      <th>6044795</th>\n",
       "      <td>6044795</td>\n",
       "      <td>3512324826</td>\n",
       "      <td>2020-08-20 23:59:59</td>\n",
       "      <td>3</td>\n",
       "      <td>194334023</td>\n",
       "      <td>63107497</td>\n",
       "      <td>452</td>\n",
       "      <td>1.126.23.236</td>\n",
       "      <td>2672509723</td>\n",
       "    </tr>\n",
       "    <tr>\n",
       "      <th>6044796</th>\n",
       "      <td>6044796</td>\n",
       "      <td>3512465686</td>\n",
       "      <td>2020-08-20 23:59:59</td>\n",
       "      <td>5</td>\n",
       "      <td>200190684</td>\n",
       "      <td>63077265</td>\n",
       "      <td>52</td>\n",
       "      <td>57.161.2.238</td>\n",
       "      <td>2672618822</td>\n",
       "    </tr>\n",
       "  </tbody>\n",
       "</table>\n",
       "<p>6044797 rows × 9 columns</p>\n",
       "</div>"
      ],
      "text/plain": [
       "         event_id  session_id    transaction_date event_type_id  product_id  \\\n",
       "0               0  3507032552 2020-08-20 00:00:00             4    63795519   \n",
       "1               1  3506994387 2020-08-20 00:00:00             5   193402914   \n",
       "2               2  3507038875 2020-08-20 00:00:00             5   202835637   \n",
       "3               3  3507038876 2020-08-20 00:00:00             7    63109557   \n",
       "4               4  3507036177 2020-08-20 00:00:00             4    69817018   \n",
       "...           ...         ...                 ...           ...         ...   \n",
       "6044792   6044792  3512464047 2020-08-20 23:59:59             1   192570369   \n",
       "6044793   6044793  3512455623 2020-08-20 23:59:59             3    69027904   \n",
       "6044794   6044794  3512460245 2020-08-20 23:59:59             5   194186114   \n",
       "6044795   6044795  3512324826 2020-08-20 23:59:59             3   194334023   \n",
       "6044796   6044796  3512465686 2020-08-20 23:59:59             5   200190684   \n",
       "\n",
       "         title_product_id country_code_id       ip_address auth_session_id  \n",
       "0                63077424             162  238.108.111.146      2668673246  \n",
       "1                63110659             148    32.129.93.188      2668641289  \n",
       "2                63108769             517   222.60.132.210      2668676616  \n",
       "3                63109558             351     22.28.25.247      2668676617  \n",
       "4                63129191             162  138.169.123.254      2668677577  \n",
       "...                   ...             ...              ...             ...  \n",
       "6044792         192474868             245     32.49.15.148      2672615264  \n",
       "6044793          63117137             315    204.94.80.154      2672624505  \n",
       "6044794          63109504             177    204.6.104.117      2672617876  \n",
       "6044795          63107497             452     1.126.23.236      2672509723  \n",
       "6044796          63077265              52     57.161.2.238      2672618822  \n",
       "\n",
       "[6044797 rows x 9 columns]"
      ]
     },
     "execution_count": 5,
     "metadata": {},
     "output_type": "execute_result"
    }
   ],
   "source": [
    "df"
   ]
  },
  {
   "cell_type": "code",
   "execution_count": 10,
   "metadata": {},
   "outputs": [],
   "source": [
    "df['transaction_date'] = pd.to_datetime(df['transaction_date'], format='%d%b%Y:%H:%M:%S')\n",
    "for col in ['auth_session_id', 'session_id', 'product_id', 'title_product_id', 'country_code_id', 'ip_address']:\n",
    "    df[col] = df[col].astype('category')"
   ]
  },
  {
   "cell_type": "code",
   "execution_count": 7,
   "metadata": {},
   "outputs": [],
   "source": [
    "from pandas_profiling import ProfileReport"
   ]
  },
  {
   "cell_type": "code",
   "execution_count": 11,
   "metadata": {},
   "outputs": [],
   "source": [
    "profile = ProfileReport(df, title=\"Pandas Profiling Report\", minimal=True)"
   ]
  },
  {
   "cell_type": "code",
   "execution_count": 12,
   "metadata": {},
   "outputs": [
    {
     "data": {
      "application/vnd.jupyter.widget-view+json": {
       "model_id": "51fe401d41d347a986f68f0dbbe071fd",
       "version_major": 2,
       "version_minor": 0
      },
      "text/plain": [
       "Summarize dataset:   0%|          | 0/5 [00:00<?, ?it/s]"
      ]
     },
     "metadata": {},
     "output_type": "display_data"
    },
    {
     "data": {
      "application/vnd.jupyter.widget-view+json": {
       "model_id": "35ae2dbe8092428fa2cc6d8ca7f9e2f4",
       "version_major": 2,
       "version_minor": 0
      },
      "text/plain": [
       "Generate report structure:   0%|          | 0/1 [00:00<?, ?it/s]"
      ]
     },
     "metadata": {},
     "output_type": "display_data"
    },
    {
     "data": {
      "application/vnd.jupyter.widget-view+json": {
       "model_id": "53d9430fb2534020abbab04b8b5ba422",
       "version_major": 2,
       "version_minor": 0
      },
      "text/plain": [
       "Render HTML:   0%|          | 0/1 [00:00<?, ?it/s]"
      ]
     },
     "metadata": {},
     "output_type": "display_data"
    },
    {
     "data": {
      "application/vnd.jupyter.widget-view+json": {
       "model_id": "3d4429a6142743cda4ef27307ba2b984",
       "version_major": 2,
       "version_minor": 0
      },
      "text/plain": [
       "Export report to file:   0%|          | 0/1 [00:00<?, ?it/s]"
      ]
     },
     "metadata": {},
     "output_type": "display_data"
    }
   ],
   "source": [
    "profile.to_file('output_1.html')"
   ]
  },
  {
   "cell_type": "code",
   "execution_count": 11,
   "metadata": {},
   "outputs": [
    {
     "data": {
      "application/vnd.jupyter.widget-view+json": {
       "model_id": "7b909b0ba55b4220bf3ab05d1627a1bb",
       "version_major": 2,
       "version_minor": 0
      },
      "text/plain": [
       "Summarize dataset:   0%|          | 0/5 [00:00<?, ?it/s]"
      ]
     },
     "metadata": {},
     "output_type": "display_data"
    },
    {
     "name": "stderr",
     "output_type": "stream",
     "text": [
      "c:\\Users\\ASUS\\Anaconda3\\envs\\ml_env\\lib\\site-packages\\pandas\\core\\strings.py:1541: FutureWarning: split() requires a non-empty pattern match.\n",
      "  f = lambda x: regex.split(x, maxsplit=n)\n",
      "c:\\Users\\ASUS\\Anaconda3\\envs\\ml_env\\lib\\site-packages\\pandas\\core\\strings.py:1541: FutureWarning: split() requires a non-empty pattern match.\n",
      "  f = lambda x: regex.split(x, maxsplit=n)\n"
     ]
    }
   ],
   "source": [
    "profile.to_widgets()"
   ]
  },
  {
   "cell_type": "code",
   "execution_count": null,
   "metadata": {},
   "outputs": [],
   "source": []
  }
 ],
 "metadata": {
  "kernelspec": {
   "display_name": "ml_env",
   "language": "python",
   "name": "python3"
  },
  "language_info": {
   "codemirror_mode": {
    "name": "ipython",
    "version": 3
   },
   "file_extension": ".py",
   "mimetype": "text/x-python",
   "name": "python",
   "nbconvert_exporter": "python",
   "pygments_lexer": "ipython3",
   "version": "3.6.10"
  },
  "orig_nbformat": 4,
  "vscode": {
   "interpreter": {
    "hash": "48e19961cdd8dbc99616741638838f7d1e221a43e7ce6580728a5041de3eb119"
   }
  }
 },
 "nbformat": 4,
 "nbformat_minor": 2
}
