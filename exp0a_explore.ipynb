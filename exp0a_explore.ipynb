{
 "cells": [
  {
   "cell_type": "code",
   "execution_count": 1,
   "metadata": {},
   "outputs": [],
   "source": [
    "import pandas as pd"
   ]
  },
  {
   "cell_type": "code",
   "execution_count": 2,
   "metadata": {},
   "outputs": [],
   "source": [
    "df = pd.read_parquet('full_data.parquet')"
   ]
  },
  {
   "cell_type": "code",
   "execution_count": 6,
   "metadata": {},
   "outputs": [
    {
     "name": "stdout",
     "output_type": "stream",
     "text": [
      "event_id 6044797\n",
      "session_id 3586748\n",
      "transaction_date 86400\n",
      "event_type_id 27\n",
      "product_id 2008439\n",
      "title_product_id 21187\n",
      "country_code_id 313\n",
      "ip_address 1130066\n",
      "auth_session_id 3213232\n"
     ]
    }
   ],
   "source": [
    "for col in df.columns:\n",
    "    print(col, len(df[col].unique()))"
   ]
  },
  {
   "cell_type": "code",
   "execution_count": 8,
   "metadata": {},
   "outputs": [
    {
     "name": "stdout",
     "output_type": "stream",
     "text": [
      "event_id 0\n",
      "session_id 0\n",
      "transaction_date 0\n",
      "event_type_id 1567\n",
      "product_id 0\n",
      "title_product_id 0\n",
      "country_code_id 335\n",
      "ip_address 0\n",
      "auth_session_id 86212\n"
     ]
    }
   ],
   "source": [
    "for col in df.columns:\n",
    "    print(col, df[col].isna().sum())"
   ]
  },
  {
   "cell_type": "code",
   "execution_count": 5,
   "metadata": {},
   "outputs": [],
   "source": [
    "for col in df.columns:\n",
    "    df[col] = df[col].astype('category')"
   ]
  },
  {
   "cell_type": "code",
   "execution_count": 7,
   "metadata": {},
   "outputs": [
    {
     "data": {
      "text/html": [
       "<div>\n",
       "<style scoped>\n",
       "    .dataframe tbody tr th:only-of-type {\n",
       "        vertical-align: middle;\n",
       "    }\n",
       "\n",
       "    .dataframe tbody tr th {\n",
       "        vertical-align: top;\n",
       "    }\n",
       "\n",
       "    .dataframe thead th {\n",
       "        text-align: right;\n",
       "    }\n",
       "</style>\n",
       "<table border=\"1\" class=\"dataframe\">\n",
       "  <thead>\n",
       "    <tr style=\"text-align: right;\">\n",
       "      <th></th>\n",
       "      <th>event_id</th>\n",
       "      <th>session_id</th>\n",
       "      <th>transaction_date</th>\n",
       "      <th>event_type_id</th>\n",
       "      <th>product_id</th>\n",
       "      <th>title_product_id</th>\n",
       "      <th>country_code_id</th>\n",
       "      <th>ip_address</th>\n",
       "      <th>auth_session_id</th>\n",
       "    </tr>\n",
       "  </thead>\n",
       "  <tbody>\n",
       "    <tr>\n",
       "      <th>event_id</th>\n",
       "      <td>1.000000</td>\n",
       "      <td>0.995144</td>\n",
       "      <td>0.999304</td>\n",
       "      <td>-0.017002</td>\n",
       "      <td>0.473600</td>\n",
       "      <td>0.025858</td>\n",
       "      <td>0.090766</td>\n",
       "      <td>0.561301</td>\n",
       "      <td>0.908596</td>\n",
       "    </tr>\n",
       "    <tr>\n",
       "      <th>session_id</th>\n",
       "      <td>0.995144</td>\n",
       "      <td>1.000000</td>\n",
       "      <td>0.995030</td>\n",
       "      <td>-0.016877</td>\n",
       "      <td>0.468510</td>\n",
       "      <td>0.024049</td>\n",
       "      <td>0.089732</td>\n",
       "      <td>0.563859</td>\n",
       "      <td>0.916060</td>\n",
       "    </tr>\n",
       "    <tr>\n",
       "      <th>transaction_date</th>\n",
       "      <td>0.999304</td>\n",
       "      <td>0.995030</td>\n",
       "      <td>1.000000</td>\n",
       "      <td>-0.016634</td>\n",
       "      <td>0.473660</td>\n",
       "      <td>0.025837</td>\n",
       "      <td>0.088101</td>\n",
       "      <td>0.558926</td>\n",
       "      <td>0.908735</td>\n",
       "    </tr>\n",
       "    <tr>\n",
       "      <th>event_type_id</th>\n",
       "      <td>-0.017002</td>\n",
       "      <td>-0.016877</td>\n",
       "      <td>-0.016634</td>\n",
       "      <td>1.000000</td>\n",
       "      <td>-0.109596</td>\n",
       "      <td>-0.007060</td>\n",
       "      <td>-0.061987</td>\n",
       "      <td>-0.048596</td>\n",
       "      <td>-0.021231</td>\n",
       "    </tr>\n",
       "    <tr>\n",
       "      <th>product_id</th>\n",
       "      <td>0.473600</td>\n",
       "      <td>0.468510</td>\n",
       "      <td>0.473660</td>\n",
       "      <td>-0.109596</td>\n",
       "      <td>1.000000</td>\n",
       "      <td>0.136162</td>\n",
       "      <td>-0.060903</td>\n",
       "      <td>0.336963</td>\n",
       "      <td>0.455068</td>\n",
       "    </tr>\n",
       "    <tr>\n",
       "      <th>title_product_id</th>\n",
       "      <td>0.025858</td>\n",
       "      <td>0.024049</td>\n",
       "      <td>0.025837</td>\n",
       "      <td>-0.007060</td>\n",
       "      <td>0.136162</td>\n",
       "      <td>1.000000</td>\n",
       "      <td>0.015907</td>\n",
       "      <td>0.032608</td>\n",
       "      <td>0.040541</td>\n",
       "    </tr>\n",
       "    <tr>\n",
       "      <th>country_code_id</th>\n",
       "      <td>0.090766</td>\n",
       "      <td>0.089732</td>\n",
       "      <td>0.088101</td>\n",
       "      <td>-0.061987</td>\n",
       "      <td>-0.060903</td>\n",
       "      <td>0.015907</td>\n",
       "      <td>1.000000</td>\n",
       "      <td>0.113057</td>\n",
       "      <td>0.077969</td>\n",
       "    </tr>\n",
       "    <tr>\n",
       "      <th>ip_address</th>\n",
       "      <td>0.561301</td>\n",
       "      <td>0.563859</td>\n",
       "      <td>0.558926</td>\n",
       "      <td>-0.048596</td>\n",
       "      <td>0.336963</td>\n",
       "      <td>0.032608</td>\n",
       "      <td>0.113057</td>\n",
       "      <td>1.000000</td>\n",
       "      <td>0.542214</td>\n",
       "    </tr>\n",
       "    <tr>\n",
       "      <th>auth_session_id</th>\n",
       "      <td>0.908596</td>\n",
       "      <td>0.916060</td>\n",
       "      <td>0.908735</td>\n",
       "      <td>-0.021231</td>\n",
       "      <td>0.455068</td>\n",
       "      <td>0.040541</td>\n",
       "      <td>0.077969</td>\n",
       "      <td>0.542214</td>\n",
       "      <td>1.000000</td>\n",
       "    </tr>\n",
       "  </tbody>\n",
       "</table>\n",
       "</div>"
      ],
      "text/plain": [
       "                  event_id  session_id  transaction_date  event_type_id  \\\n",
       "event_id          1.000000    0.995144          0.999304      -0.017002   \n",
       "session_id        0.995144    1.000000          0.995030      -0.016877   \n",
       "transaction_date  0.999304    0.995030          1.000000      -0.016634   \n",
       "event_type_id    -0.017002   -0.016877         -0.016634       1.000000   \n",
       "product_id        0.473600    0.468510          0.473660      -0.109596   \n",
       "title_product_id  0.025858    0.024049          0.025837      -0.007060   \n",
       "country_code_id   0.090766    0.089732          0.088101      -0.061987   \n",
       "ip_address        0.561301    0.563859          0.558926      -0.048596   \n",
       "auth_session_id   0.908596    0.916060          0.908735      -0.021231   \n",
       "\n",
       "                  product_id  title_product_id  country_code_id  ip_address  \\\n",
       "event_id            0.473600          0.025858         0.090766    0.561301   \n",
       "session_id          0.468510          0.024049         0.089732    0.563859   \n",
       "transaction_date    0.473660          0.025837         0.088101    0.558926   \n",
       "event_type_id      -0.109596         -0.007060        -0.061987   -0.048596   \n",
       "product_id          1.000000          0.136162        -0.060903    0.336963   \n",
       "title_product_id    0.136162          1.000000         0.015907    0.032608   \n",
       "country_code_id    -0.060903          0.015907         1.000000    0.113057   \n",
       "ip_address          0.336963          0.032608         0.113057    1.000000   \n",
       "auth_session_id     0.455068          0.040541         0.077969    0.542214   \n",
       "\n",
       "                  auth_session_id  \n",
       "event_id                 0.908596  \n",
       "session_id               0.916060  \n",
       "transaction_date         0.908735  \n",
       "event_type_id           -0.021231  \n",
       "product_id               0.455068  \n",
       "title_product_id         0.040541  \n",
       "country_code_id          0.077969  \n",
       "ip_address               0.542214  \n",
       "auth_session_id          1.000000  "
      ]
     },
     "execution_count": 7,
     "metadata": {},
     "output_type": "execute_result"
    }
   ],
   "source": [
    "df.apply(lambda x : pd.factorize(x)[0]).corr(method='pearson', min_periods=1)"
   ]
  },
  {
   "cell_type": "code",
   "execution_count": null,
   "metadata": {},
   "outputs": [],
   "source": []
  }
 ],
 "metadata": {
  "kernelspec": {
   "display_name": "ml_env",
   "language": "python",
   "name": "python3"
  },
  "language_info": {
   "codemirror_mode": {
    "name": "ipython",
    "version": 3
   },
   "file_extension": ".py",
   "mimetype": "text/x-python",
   "name": "python",
   "nbconvert_exporter": "python",
   "pygments_lexer": "ipython3",
   "version": "3.6.10"
  },
  "orig_nbformat": 4,
  "vscode": {
   "interpreter": {
    "hash": "48e19961cdd8dbc99616741638838f7d1e221a43e7ce6580728a5041de3eb119"
   }
  }
 },
 "nbformat": 4,
 "nbformat_minor": 2
}
